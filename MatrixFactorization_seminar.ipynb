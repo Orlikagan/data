{
 "cells": [
  {
   "cell_type": "code",
   "execution_count": 7,
   "id": "4d405901",
   "metadata": {},
   "outputs": [],
   "source": [
    "import numpy as np \n",
    "import pandas as pd \n",
    "import os \n",
    "import numpy as np \n",
    "import pandas as pd \n",
    "from sklearn.decomposition import NMF"
   ]
  },
  {
   "cell_type": "markdown",
   "id": "e46043ad",
   "metadata": {},
   "source": [
    "# Load the data"
   ]
  },
  {
   "cell_type": "code",
   "execution_count": 6,
   "id": "5b68b99c",
   "metadata": {
    "scrolled": true
   },
   "outputs": [
    {
     "data": {
      "text/html": [
       "<div>\n",
       "<style scoped>\n",
       "    .dataframe tbody tr th:only-of-type {\n",
       "        vertical-align: middle;\n",
       "    }\n",
       "\n",
       "    .dataframe tbody tr th {\n",
       "        vertical-align: top;\n",
       "    }\n",
       "\n",
       "    .dataframe thead th {\n",
       "        text-align: right;\n",
       "    }\n",
       "</style>\n",
       "<table border=\"1\" class=\"dataframe\">\n",
       "  <thead>\n",
       "    <tr style=\"text-align: right;\">\n",
       "      <th></th>\n",
       "      <th>userId</th>\n",
       "      <th>movieId</th>\n",
       "      <th>rating</th>\n",
       "      <th>timestamp</th>\n",
       "    </tr>\n",
       "  </thead>\n",
       "  <tbody>\n",
       "    <tr>\n",
       "      <th>0</th>\n",
       "      <td>1</td>\n",
       "      <td>1</td>\n",
       "      <td>4.0</td>\n",
       "      <td>964982703</td>\n",
       "    </tr>\n",
       "    <tr>\n",
       "      <th>1</th>\n",
       "      <td>1</td>\n",
       "      <td>3</td>\n",
       "      <td>4.0</td>\n",
       "      <td>964981247</td>\n",
       "    </tr>\n",
       "    <tr>\n",
       "      <th>2</th>\n",
       "      <td>1</td>\n",
       "      <td>6</td>\n",
       "      <td>4.0</td>\n",
       "      <td>964982224</td>\n",
       "    </tr>\n",
       "    <tr>\n",
       "      <th>3</th>\n",
       "      <td>1</td>\n",
       "      <td>47</td>\n",
       "      <td>5.0</td>\n",
       "      <td>964983815</td>\n",
       "    </tr>\n",
       "    <tr>\n",
       "      <th>4</th>\n",
       "      <td>1</td>\n",
       "      <td>50</td>\n",
       "      <td>5.0</td>\n",
       "      <td>964982931</td>\n",
       "    </tr>\n",
       "  </tbody>\n",
       "</table>\n",
       "</div>"
      ],
      "text/plain": [
       "   userId  movieId  rating  timestamp\n",
       "0       1        1     4.0  964982703\n",
       "1       1        3     4.0  964981247\n",
       "2       1        6     4.0  964982224\n",
       "3       1       47     5.0  964983815\n",
       "4       1       50     5.0  964982931"
      ]
     },
     "execution_count": 6,
     "metadata": {},
     "output_type": "execute_result"
    }
   ],
   "source": [
    "ratings = pd.read_csv(\"ratings.csv\")\n",
    "ratings.head()"
   ]
  },
  {
   "cell_type": "code",
   "execution_count": null,
   "id": "6e18cf15",
   "metadata": {},
   "outputs": [],
   "source": [
    "ratings = pd.read_csv(\"/Users/orlikagan/Desktop/MSC_DS/סמסטר ב/סמינר DS/data/ratings.csv\")\n",
    "movies = pd.read_csv(\"/Users/orlikagan/Desktop/MSC_DS/סמסטר ב/סמינר DS/data/movies.csv\")\n"
   ]
  },
  {
   "cell_type": "code",
   "execution_count": 4,
   "id": "73a35181",
   "metadata": {},
   "outputs": [
    {
     "data": {
      "text/html": [
       "<div>\n",
       "<style scoped>\n",
       "    .dataframe tbody tr th:only-of-type {\n",
       "        vertical-align: middle;\n",
       "    }\n",
       "\n",
       "    .dataframe tbody tr th {\n",
       "        vertical-align: top;\n",
       "    }\n",
       "\n",
       "    .dataframe thead th {\n",
       "        text-align: right;\n",
       "    }\n",
       "</style>\n",
       "<table border=\"1\" class=\"dataframe\">\n",
       "  <thead>\n",
       "    <tr style=\"text-align: right;\">\n",
       "      <th></th>\n",
       "      <th>movieId</th>\n",
       "      <th>title</th>\n",
       "      <th>genres</th>\n",
       "    </tr>\n",
       "  </thead>\n",
       "  <tbody>\n",
       "    <tr>\n",
       "      <th>0</th>\n",
       "      <td>1</td>\n",
       "      <td>Toy Story (1995)</td>\n",
       "      <td>Adventure|Animation|Children|Comedy|Fantasy</td>\n",
       "    </tr>\n",
       "    <tr>\n",
       "      <th>1</th>\n",
       "      <td>2</td>\n",
       "      <td>Jumanji (1995)</td>\n",
       "      <td>Adventure|Children|Fantasy</td>\n",
       "    </tr>\n",
       "    <tr>\n",
       "      <th>2</th>\n",
       "      <td>3</td>\n",
       "      <td>Grumpier Old Men (1995)</td>\n",
       "      <td>Comedy|Romance</td>\n",
       "    </tr>\n",
       "    <tr>\n",
       "      <th>3</th>\n",
       "      <td>4</td>\n",
       "      <td>Waiting to Exhale (1995)</td>\n",
       "      <td>Comedy|Drama|Romance</td>\n",
       "    </tr>\n",
       "    <tr>\n",
       "      <th>4</th>\n",
       "      <td>5</td>\n",
       "      <td>Father of the Bride Part II (1995)</td>\n",
       "      <td>Comedy</td>\n",
       "    </tr>\n",
       "  </tbody>\n",
       "</table>\n",
       "</div>"
      ],
      "text/plain": [
       "   movieId                               title  \\\n",
       "0        1                    Toy Story (1995)   \n",
       "1        2                      Jumanji (1995)   \n",
       "2        3             Grumpier Old Men (1995)   \n",
       "3        4            Waiting to Exhale (1995)   \n",
       "4        5  Father of the Bride Part II (1995)   \n",
       "\n",
       "                                        genres  \n",
       "0  Adventure|Animation|Children|Comedy|Fantasy  \n",
       "1                   Adventure|Children|Fantasy  \n",
       "2                               Comedy|Romance  \n",
       "3                         Comedy|Drama|Romance  \n",
       "4                                       Comedy  "
      ]
     },
     "execution_count": 4,
     "metadata": {},
     "output_type": "execute_result"
    }
   ],
   "source": [
    "movies = pd.read_csv(\"movies.csv\")\n",
    "movies.head()"
   ]
  },
  {
   "cell_type": "markdown",
   "id": "fda7c578",
   "metadata": {},
   "source": [
    "# Matrix factorization example "
   ]
  },
  {
   "cell_type": "code",
   "execution_count": 4,
   "id": "845cad50",
   "metadata": {},
   "outputs": [],
   "source": [
    "combined_table = pd.merge(ratings, movies, on='movieId')\n",
    "user_item = combined_table.pivot_table(index='userId', columns='title', values='rating', \n",
    "                                       fill_value=0)"
   ]
  },
  {
   "cell_type": "code",
   "execution_count": 5,
   "id": "d4991e80",
   "metadata": {},
   "outputs": [],
   "source": [
    "model = NMF(n_components=2, random_state=42)"
   ]
  },
  {
   "cell_type": "code",
   "execution_count": 6,
   "id": "42b94193",
   "metadata": {},
   "outputs": [],
   "source": [
    "user_matrix = model.fit_transform(user_item)"
   ]
  },
  {
   "cell_type": "code",
   "execution_count": 7,
   "id": "6a8533b9",
   "metadata": {},
   "outputs": [],
   "source": [
    "item_matrix = model.components_"
   ]
  },
  {
   "cell_type": "code",
   "execution_count": 12,
   "id": "837672ba",
   "metadata": {
    "scrolled": true
   },
   "outputs": [
    {
     "name": "stdout",
     "output_type": "stream",
     "text": [
      "Selected user: 27\n",
      "Here is a [partial] list of what they rated:\n",
      "       userId                                              title  rating\n",
      "48672      27             Wallace & Gromit: A Close Shave (1995)     5.0\n",
      "22256      27                             West Side Story (1961)     5.0\n",
      "22566      27                     Gods Must Be Crazy, The (1980)     5.0\n",
      "49056      27                       To Kill a Mockingbird (1962)     5.0\n",
      "58504      27                                     Charade (1963)     5.0\n",
      "2442       27                                Forrest Gump (1994)     5.0\n",
      "12370      27                              ¡Three Amigos! (1986)     5.0\n",
      "8733       27                          Back to the Future (1985)     5.0\n",
      "71110      27                                     Ben-Hur (1959)     5.0\n",
      "71067      27                           Great Escape, The (1963)     5.0\n",
      "28082      27                          Mr. Holland's Opus (1995)     5.0\n",
      "6460       27                  E.T. the Extra-Terrestrial (1982)     5.0\n",
      "43912      27                                     Titanic (1997)     5.0\n",
      "13089      27   Star Wars: Episode I - The Phantom Menace (1999)     5.0\n",
      "6994       27                         Princess Bride, The (1987)     5.0\n",
      "7142       27  Raiders of the Lost Ark (Indiana Jones and the...     5.0\n",
      "64664      27                             King and I, The (1956)     5.0\n",
      "64436      27                         Sound of Music, The (1965)     5.0\n",
      "25043      27                                        Babe (1995)     5.0\n",
      "15547      27                                        Hook (1991)     5.0\n",
      "================================================================================\n",
      "And here are the new top recommendations:\n",
      "title\n",
      "Matrix, The (1999)                                           3.776739\n",
      "Forrest Gump (1994)                                          3.746485\n",
      "Shawshank Redemption, The (1994)                             3.647929\n",
      "Pulp Fiction (1994)                                          3.537969\n",
      "Fight Club (1999)                                            3.398445\n",
      "Star Wars: Episode IV - A New Hope (1977)                    3.383946\n",
      "Star Wars: Episode V - The Empire Strikes Back (1980)        3.204945\n",
      "Lord of the Rings: The Fellowship of the Ring, The (2001)    3.113159\n",
      "Silence of the Lambs, The (1991)                             3.080390\n",
      "Lord of the Rings: The Return of the King, The (2003)        3.027757\n",
      "dtype: float64\n"
     ]
    }
   ],
   "source": [
    "demo_user_index = 27\n",
    "print(f\"Selected user: {demo_user_index}\")\n",
    "print(\"Here is a [partial] list of what they rated:\")\n",
    "\n",
    "# This is what they already rated high (top 10)\n",
    "use_cols = \"userId title rating\".split()\n",
    "use_rows = combined_table.userId == demo_user_index\n",
    "partial_table = combined_table.loc[use_rows, use_cols].sort_values(\"rating\").tail(10)\n",
    "print(partial_table)\n",
    "\n",
    "# Recommendatinos \n",
    "this_user = user_matrix[demo_user_index, :]\n",
    "recommendation_level = item_matrix.T @ this_user \n",
    "recommendation_sorted = pd.Series(recommendation_level, index=user_item.columns).sort_values(ascending=False)\n",
    "print(\"=\"*80)\n",
    "print(\"And here are the new top recommendations:\")\n",
    "print(recommendation_sorted.head(10))\n"
   ]
  },
  {
   "cell_type": "code",
   "execution_count": null,
   "id": "70c9542b",
   "metadata": {},
   "outputs": [],
   "source": []
  }
 ],
 "metadata": {
  "kernelspec": {
   "display_name": "Python 3",
   "language": "python",
   "name": "python3"
  },
  "language_info": {
   "codemirror_mode": {
    "name": "ipython",
    "version": 3
   },
   "file_extension": ".py",
   "mimetype": "text/x-python",
   "name": "python",
   "nbconvert_exporter": "python",
   "pygments_lexer": "ipython3",
   "version": "3.6.13"
  }
 },
 "nbformat": 4,
 "nbformat_minor": 5
}
